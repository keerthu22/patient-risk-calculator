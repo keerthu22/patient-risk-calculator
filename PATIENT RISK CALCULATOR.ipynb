{
 "cells": [
  {
   "cell_type": "code",
   "execution_count": 1,
   "id": "beb64c66-412b-45ec-96fe-a443d110909f",
   "metadata": {},
   "outputs": [
    {
     "name": "stdout",
     "output_type": "stream",
     "text": [
      "Dataset Shape: (8902, 11)\n",
      "Columns: ['MemberID', 'Age', 'Gender', 'ClaimID', 'ClaimDate', 'DiagnosisCode', 'ProcedureCode', 'MedicationCode', 'PrimaryDisease', 'AmountBilled', 'PreventiveGap']\n",
      "   MemberID  Age Gender     ClaimID   ClaimDate DiagnosisCode ProcedureCode  \\\n",
      "0      1001   71      F  CLM1001001  2024-01-26         C50.9         92928   \n",
      "1      1001   71      F  CLM1001002  2024-06-20   J44.1;N18.9         90837   \n",
      "2      1001   71      F  CLM1001003  2024-06-15   C50.9;N18.9         11721   \n",
      "3      1001   71      F  CLM1001004  2024-04-12         N18.9         19120   \n",
      "4      1002   69      F  CLM1002001  2024-01-16         I10.0         90837   \n",
      "\n",
      "  MedicationCode PrimaryDisease  AmountBilled                PreventiveGap  \n",
      "0         NDC007         Cancer          1091     Cancer screening overdue  \n",
      "1  NDC006;NDC005           COPD           721    Pulmonary check-up missed  \n",
      "2         NDC004         Cancer          1673     Cancer screening overdue  \n",
      "3  NDC001;NDC002            CKD          1008  Nephrology follow-up missed  \n",
      "4         NDC004   Hypertension          1553         BP monitoring missed  \n"
     ]
    }
   ],
   "source": [
    "import pandas as pd\n",
    "\n",
    "# STEP 1: Load dataset\n",
    "df = pd.read_csv('data/optimized_synthetic_patient_claims.csv')\n",
    "\n",
    "# View shape and sample\n",
    "print(\"Dataset Shape:\", df.shape)\n",
    "print(\"Columns:\", df.columns.tolist())\n",
    "print(df.head())"
   ]
  },
  {
   "cell_type": "code",
   "execution_count": 30,
   "id": "a91f5943-08eb-42c0-94ab-0ac9bec63f77",
   "metadata": {},
   "outputs": [],
   "source": [
    "df = df.dropna(subset=['DiagnosisCode', 'MemberID'])"
   ]
  },
  {
   "cell_type": "code",
   "execution_count": 31,
   "id": "5e161ed4",
   "metadata": {},
   "outputs": [],
   "source": [
    "df['DiagnosisCode'] = df['DiagnosisCode'].astype(str)\n",
    "df['ProcedureCode'] = df['ProcedureCode'].astype(str)\n",
    "\n",
    "df['DiagnosisCode'] = df['DiagnosisCode'].str.split(';')\n",
    "df['ProcedureCode'] = df['ProcedureCode'].str.split(';')\n",
    "\n",
    "df = df.explode('DiagnosisCode')\n",
    "df = df.explode('ProcedureCode')"
   ]
  },
  {
   "cell_type": "code",
   "execution_count": 32,
   "id": "3fbf5b89-dae8-4db8-a6f5-f62a9c2111cf",
   "metadata": {},
   "outputs": [],
   "source": [
    "df['ICD_Prefix'] = df['DiagnosisCode'].str[:3]"
   ]
  },
  {
   "cell_type": "code",
   "execution_count": 35,
   "id": "9718bee9",
   "metadata": {},
   "outputs": [
    {
     "name": "stdout",
     "output_type": "stream",
     "text": [
      "['C50.9' 'J44.1' 'N18.9' 'I10.0' 'E11.9' 'H66.9' 'F32.9' 'I21.9' 'J45.9']\n"
     ]
    }
   ],
   "source": [
    "# Replace 'your_column_name' with the actual column name\n",
    "unique_values = df['DiagnosisCode'].unique()\n",
    "print(unique_values)"
   ]
  },
  {
   "cell_type": "code",
   "execution_count": 5,
   "id": "3ba7802c-bbcc-479d-bfd5-298b81812317",
   "metadata": {},
   "outputs": [],
   "source": [
    "# STEP 4: Map ICD Prefix to Disease Name\n",
    "icd_prefix_map = {\n",
    "    'E10': 'Type 1 Diabetes',\n",
    "    'E11': 'Type 2 Diabetes',\n",
    "    'E13': 'Other Diabetes',\n",
    "    'I10': 'Hypertension',\n",
    "    'I25': 'Heart Disease',\n",
    "    'I50': 'Heart Failure',\n",
    "    'J44': 'COPD',\n",
    "    'J45': 'Asthma',\n",
    "    'J18': 'Pneumonia',\n",
    "    'N18': 'Kidney Disease',\n",
    "    'C50': 'Breast Cancer',\n",
    "    'C34': 'Lung Cancer',\n",
    "    'C18': 'Colon Cancer',\n",
    "    'F32': 'Depression',\n",
    "    'F20': 'Schizophrenia',\n",
    "    'G30': 'Alzheimer\\'s Disease',\n",
    "    'M54': 'Back Pain',\n",
    "    'K21': 'Acid Reflux',\n",
    "    'K50': 'Crohn\\'s Disease',\n",
    "    'R51': 'Headache',\n",
    "    'R53': 'Fatigue',\n",
    "    'Z00': 'General Check-up',\n",
    "    'Z51': 'Palliative Care'\n",
    "}\n",
    "\n",
    "df['DiseaseName'] = df['ICD_Prefix'].map(icd_prefix_map)"
   ]
  },
  {
   "cell_type": "code",
   "execution_count": 6,
   "id": "fb9bab42-9159-4f63-afab-f366e058e517",
   "metadata": {},
   "outputs": [],
   "source": [
    "# STEP 5: Assign Disease Criticality (1 = Low Risk, 5 = Critical)\n",
    "disease_criticality = {\n",
    "    'Type 1 Diabetes': 4,\n",
    "    'Type 2 Diabetes': 4,\n",
    "    'Other Diabetes': 4,\n",
    "    'Hypertension': 3,\n",
    "    'Heart Disease': 5,\n",
    "    'Heart Failure': 5,\n",
    "    'COPD': 4,\n",
    "    'Asthma': 3,\n",
    "    'Pneumonia': 4,\n",
    "    'Kidney Disease': 4,\n",
    "    'Breast Cancer': 5,\n",
    "    'Lung Cancer': 5,\n",
    "    'Colon Cancer': 5,\n",
    "    'Depression': 3,\n",
    "    'Schizophrenia': 4,\n",
    "    'Alzheimer\\'s Disease': 4,\n",
    "    'Back Pain': 2,\n",
    "    'Acid Reflux': 2,\n",
    "    'Crohn\\'s Disease': 3,\n",
    "    'Headache': 2,\n",
    "    'Fatigue': 2,\n",
    "    'General Check-up': 1,\n",
    "    'Palliative Care': 5\n",
    "}\n",
    "\n",
    "df['DiseaseCriticality'] = df['DiseaseName'].map(disease_criticality)"
   ]
  },
  {
   "cell_type": "code",
   "execution_count": 7,
   "id": "24bf9ff9-e64b-4525-ac3d-4ccd03778265",
   "metadata": {},
   "outputs": [
    {
     "name": "stdout",
     "output_type": "stream",
     "text": [
      "\n",
      "Sample Mapped Records:\n",
      "    MemberID DiagnosisCode      DiseaseName  DiseaseCriticality\n",
      "0       1001         J45.9           Asthma                 3.0\n",
      "1       1002         C50.9    Breast Cancer                 5.0\n",
      "3       1004         J45.9           Asthma                 3.0\n",
      "4       1005         E11.9  Type 2 Diabetes                 4.0\n",
      "5       1006         E11.9  Type 2 Diabetes                 4.0\n",
      "6       1007         E11.9  Type 2 Diabetes                 4.0\n",
      "10      1011         E11.9  Type 2 Diabetes                 4.0\n",
      "11      1012         F32.9       Depression                 3.0\n",
      "12      1013         J44.9             COPD                 4.0\n",
      "13      1014   C50.9;H66.9    Breast Cancer                 5.0\n"
     ]
    }
   ],
   "source": [
    "# STEP 6: Final preview\n",
    "print(\"\\nSample Mapped Records:\")\n",
    "print(df[['MemberID', 'DiagnosisCode', 'DiseaseName', 'DiseaseCriticality']].dropna().head(10))"
   ]
  },
  {
   "cell_type": "code",
   "execution_count": 8,
   "id": "3fca55a9-c2dd-470a-bc24-3cec36aec6bd",
   "metadata": {},
   "outputs": [
    {
     "name": "stdout",
     "output_type": "stream",
     "text": [
      "\n",
      "Sample Member-Level Risk Features:\n",
      "   MemberID  NumClaims  UniqueDiseases  AvgCriticality  MaxCriticality  \\\n",
      "0      1001          1               1             3.0             3.0   \n",
      "1      1002          1               1             5.0             5.0   \n",
      "2      1004          1               1             3.0             3.0   \n",
      "3      1005          1               1             4.0             4.0   \n",
      "4      1006          1               1             4.0             4.0   \n",
      "\n",
      "   ChronicCount  RiskScore  \n",
      "0             0          3  \n",
      "1             1          5  \n",
      "2             0          3  \n",
      "3             1          4  \n",
      "4             1          4  \n"
     ]
    }
   ],
   "source": [
    "# STEP 1: Drop rows where disease mapping failed\n",
    "df_risk = df.dropna(subset=['DiseaseName', 'DiseaseCriticality'])\n",
    "\n",
    "# STEP 2: Define a function to assign rule-based risk score\n",
    "def assign_risk_score(row):\n",
    "    if row['MaxCriticality'] >= 5 or row['ChronicCount'] >= 2:\n",
    "        return 5\n",
    "    elif row['AvgCriticality'] >= 4:\n",
    "        return 4\n",
    "    elif row['ChronicCount'] == 1 or row['AvgCriticality'] >= 3:\n",
    "        return 3\n",
    "    elif row['AvgCriticality'] >= 2:\n",
    "        return 2\n",
    "    else:\n",
    "        return 1\n",
    "\n",
    "# STEP 3: Group by MemberID and aggregate\n",
    "risk_features = df_risk.groupby('MemberID').agg(\n",
    "    NumClaims=('ClaimID', 'count'),\n",
    "    UniqueDiseases=('DiseaseName', 'nunique'),\n",
    "    AvgCriticality=('DiseaseCriticality', 'mean'),\n",
    "    MaxCriticality=('DiseaseCriticality', 'max'),\n",
    "    ChronicCount=('DiseaseCriticality', lambda x: (x >= 4).sum())\n",
    ").reset_index()\n",
    "\n",
    "# STEP 4: Assign rule-based risk score (1 to 5)\n",
    "risk_features['RiskScore'] = risk_features.apply(assign_risk_score, axis=1)\n",
    "\n",
    "# Preview\n",
    "print(\"\\nSample Member-Level Risk Features:\")\n",
    "print(risk_features.head())\n"
   ]
  },
  {
   "cell_type": "code",
   "execution_count": 9,
   "id": "9a156569-0735-4b34-8b98-d892c9b55bd3",
   "metadata": {},
   "outputs": [],
   "source": [
    "# STEP 1: Preventive care map\n",
    "preventive_care_map = {\n",
    "    'Type 1 Diabetes': \"Regular insulin monitoring and diet control\",\n",
    "    'Type 2 Diabetes': \"Weight management, avoid sugar, regular A1C tests\",\n",
    "    'Other Diabetes': \"Monitor glucose, exercise, low-carb diet\",\n",
    "    'Hypertension': \"Reduce salt, regular BP check, avoid stress\",\n",
    "    'Heart Disease': \"Cardiologist visit, ECG, physical activity\",\n",
    "    'Heart Failure': \"Low sodium diet, daily weight check, medications\",\n",
    "    'COPD': \"Avoid smoking, pulmonary rehab, flu vaccination\",\n",
    "    'Asthma': \"Use inhalers regularly, avoid triggers, annual checkups\",\n",
    "    'Pneumonia': \"Vaccination, hygiene, timely antibiotics\",\n",
    "    'Kidney Disease': \"Limit protein/sodium, regular blood/urine tests\",\n",
    "    'Breast Cancer': \"Mammograms, regular check-ups, self-exams\",\n",
    "    'Lung Cancer': \"Quit smoking, screening for early detection\",\n",
    "    'Colon Cancer': \"Colonoscopy, high-fiber diet, routine screening\",\n",
    "    'Depression': \"Therapy, medication, regular mental health checks\",\n",
    "    'Schizophrenia': \"Psychiatric care, medication adherence\",\n",
    "    'Back Pain': \"Stretching, physiotherapy, avoid heavy lifting\",\n",
    "    'Acid Reflux': \"Avoid spicy food, small meals, raise head while sleeping\",\n",
    "    'Crohn\\'s Disease': \"Anti-inflammatory drugs, avoid trigger foods\",\n",
    "    'Alzheimer\\'s Disease': \"Memory exercises, caregiver support\",\n",
    "    'Headache': \"Hydration, sleep, limit screen time\",\n",
    "    'Fatigue': \"Balanced diet, sleep, manage stress\",\n",
    "    'General Check-up': \"Routine health screening and lifestyle advice\",\n",
    "    'Palliative Care': \"Comfort-focused care and emotional support\"\n",
    "}\n"
   ]
  },
  {
   "cell_type": "code",
   "execution_count": 10,
   "id": "9db221dd-f96f-46e7-a9f7-edd63e7c1d0e",
   "metadata": {},
   "outputs": [],
   "source": [
    "# STEP 2: Merge disease info with risk_features table\n",
    "df_prevent = df_risk[['MemberID', 'DiseaseName']].dropna()\n",
    "df_prevent['Recommendation'] = df_prevent['DiseaseName'].map(preventive_care_map)\n"
   ]
  },
  {
   "cell_type": "code",
   "execution_count": 11,
   "id": "d748ca0b-d462-42f6-adec-642acef868e5",
   "metadata": {},
   "outputs": [],
   "source": [
    "# STEP 3: Aggregate recommendations per patient\n",
    "recommendation_df = df_prevent.groupby('MemberID')['Recommendation'].unique().reset_index()\n",
    "recommendation_df['PreventiveCareAdvice'] = recommendation_df['Recommendation'].apply(lambda x: \"; \".join(x))\n",
    "recommendation_df = recommendation_df.drop(columns=['Recommendation'])"
   ]
  },
  {
   "cell_type": "code",
   "execution_count": 17,
   "id": "f78eda82-f794-4ec6-823c-69373fb471f3",
   "metadata": {},
   "outputs": [
    {
     "name": "stdout",
     "output_type": "stream",
     "text": [
      "\n",
      "Sample Final Patient Profiles:\n",
      "   MemberID  RiskScore                               PreventiveCareAdvice\n",
      "0      1001          3  Use inhalers regularly, avoid triggers, annual...\n",
      "1      1002          5          Mammograms, regular check-ups, self-exams\n",
      "2      1004          3  Use inhalers regularly, avoid triggers, annual...\n",
      "3      1005          4  Weight management, avoid sugar, regular A1C tests\n",
      "4      1006          4  Weight management, avoid sugar, regular A1C tests\n"
     ]
    }
   ],
   "source": [
    "# STEP 4: Merge with risk scores\n",
    "final_patient_profile = pd.merge(risk_features, recommendation_df, on='MemberID', how='left')\n",
    "\n",
    "# Preview result\n",
    "print(\"\\nSample Final Patient Profiles:\")\n",
    "print(final_patient_profile[['MemberID', 'RiskScore', 'PreventiveCareAdvice']].head())\n",
    "\n",
    "final_patient_profile.to_csv(\"data/final_patient_profile.csv\", index=False)"
   ]
  },
  {
   "cell_type": "code",
   "execution_count": 18,
   "id": "6dbbc280",
   "metadata": {},
   "outputs": [
    {
     "data": {
      "text/plain": [
       "Index(['MemberID', 'Age', 'Gender', 'ClaimID', 'ClaimDate', 'DiagnosisCode',\n",
       "       'ProcedureCode', 'MedicationCode', 'PrimaryDisease', 'AmountBilled',\n",
       "       'PreventiveGap', 'ICD_Prefix', 'DiseaseName', 'DiseaseCriticality'],\n",
       "      dtype='object')"
      ]
     },
     "execution_count": 18,
     "metadata": {},
     "output_type": "execute_result"
    }
   ],
   "source": [
    "df.columns"
   ]
  },
  {
   "cell_type": "code",
   "execution_count": null,
   "id": "30ffc200-9cc7-40b5-bffb-b3c2716acc04",
   "metadata": {},
   "outputs": [
    {
     "name": "stdout",
     "output_type": "stream",
     "text": [
      "Cross-validation scores: [1.         1.         0.99595142 0.99190283 0.99595142]\n",
      "Mean CV Accuracy: 0.9967611336032389\n",
      "Test Accuracy: 0.9935483870967742\n",
      "[[132   2   0]\n",
      " [  0 132   0]\n",
      " [  0   0  44]]\n",
      "              precision    recall  f1-score   support\n",
      "\n",
      "           3       1.00      0.99      0.99       134\n",
      "           4       0.99      1.00      0.99       132\n",
      "           5       1.00      1.00      1.00        44\n",
      "\n",
      "    accuracy                           0.99       310\n",
      "   macro avg       1.00      1.00      0.99       310\n",
      "weighted avg       0.99      0.99      0.99       310\n",
      "\n"
     ]
    },
    {
     "data": {
      "text/plain": [
       "['output/le_proc.pkl']"
      ]
     },
     "execution_count": 20,
     "metadata": {},
     "output_type": "execute_result"
    }
   ],
   "source": [
    "import pandas as pd\n",
    "import numpy as np\n",
    "from sklearn.model_selection import train_test_split, cross_val_score\n",
    "from sklearn.ensemble import RandomForestClassifier\n",
    "from sklearn.metrics import classification_report, confusion_matrix, accuracy_score\n",
    "from sklearn.preprocessing import LabelEncoder\n",
    "import joblib\n",
    "\n",
    "# Step 1: Load original data and final profile\n",
    "claims_df = pd.read_csv(\"data/synthetic_patient_claims.csv\")\n",
    "profile_df = pd.read_csv(\"data/final_patient_profile.csv\")  # Save it after rule-based processing\n",
    "\n",
    "# Step 2: Merge to bring RiskScore to each row\n",
    "df = claims_df.merge(profile_df[['MemberID', 'RiskScore']], on='MemberID', how='inner')\n",
    "\n",
    "# Step 3: Drop missing data\n",
    "df.dropna(subset=['Age', 'Gender', 'DiagnosisCode', 'ProcedureCode', 'RiskScore'], inplace=True)\n",
    "\n",
    "# Step 4: Encode categorical columns\n",
    "le_gender = LabelEncoder()\n",
    "df['Gender'] = le_gender.fit_transform(df['Gender'])\n",
    "\n",
    "le_diag = LabelEncoder()\n",
    "df['DiagnosisCode'] = le_diag.fit_transform(df['DiagnosisCode'])\n",
    "\n",
    "le_proc = LabelEncoder()\n",
    "df['ProcedureCode'] = le_proc.fit_transform(df['ProcedureCode'])\n",
    "\n",
    "# Step 5: Define Features & Target\n",
    "features = ['Age', 'Gender', 'DiagnosisCode', 'ProcedureCode', 'AmountBilled']\n",
    "X = df[features]\n",
    "y = df['RiskScore'].astype(int)\n",
    "\n",
    "# Step 6: Train/Test Split\n",
    "X_train, X_test, y_train, y_test = train_test_split(\n",
    "    X, y, test_size=0.2, random_state=42, stratify=y)\n",
    "\n",
    "# Step 7: Train Model\n",
    "rf = RandomForestClassifier(\n",
    "    n_estimators=100,\n",
    "    max_depth=10,\n",
    "    min_samples_split=10,\n",
    "    min_samples_leaf=5,\n",
    "    random_state=42\n",
    ")\n",
    "\n",
    "cv_scores = cross_val_score(rf, X_train, y_train, cv=5)\n",
    "print(\"Cross-validation scores:\", cv_scores)\n",
    "print(\"Mean CV Accuracy:\", np.mean(cv_scores))\n",
    "\n",
    "rf.fit(X_train, y_train)\n",
    "y_pred = rf.predict(X_test)\n",
    "\n",
    "# Step 8: Evaluation\n",
    "print(\"Test Accuracy:\", accuracy_score(y_test, y_pred))\n",
    "print(confusion_matrix(y_test, y_pred))\n",
    "print(classification_report(y_test, y_pred))\n",
    "\n",
    "# Step 9: Save Model and Encoders\n",
    "joblib.dump(rf, 'output/patient_risk_model.pkl')\n",
    "joblib.dump(le_gender, 'output/le_gender.pkl')\n",
    "joblib.dump(le_diag, 'output/le_diag.pkl')\n",
    "joblib.dump(le_proc, 'output/le_proc.pkl')\n"
   ]
  },
  {
   "cell_type": "code",
   "execution_count": null,
   "id": "36c31b80",
   "metadata": {},
   "outputs": [],
   "source": []
  }
 ],
 "metadata": {
  "kernelspec": {
   "display_name": "venv",
   "language": "python",
   "name": "python3"
  },
  "language_info": {
   "codemirror_mode": {
    "name": "ipython",
    "version": 3
   },
   "file_extension": ".py",
   "mimetype": "text/x-python",
   "name": "python",
   "nbconvert_exporter": "python",
   "pygments_lexer": "ipython3",
   "version": "3.11.8"
  }
 },
 "nbformat": 4,
 "nbformat_minor": 5
}
